{
 "cells": [
  {
   "cell_type": "code",
   "execution_count": null,
   "metadata": {
    "scrolled": true
   },
   "outputs": [
    {
     "name": "stdout",
     "output_type": "stream",
     "text": [
      "Serving at port 1991\n",
      "Test\n"
     ]
    },
    {
     "name": "stderr",
     "output_type": "stream",
     "text": [
      "127.0.0.1 - - [24/Sep/2019 07:25:37] \"GET / HTTP/1.1\" 401 -\n",
      "127.0.0.1 - - [24/Sep/2019 07:25:44] \"GET / HTTP/1.1\" 200 -\n",
      "127.0.0.1 - - [24/Sep/2019 07:25:45] code 404, message File not found\n",
      "127.0.0.1 - - [24/Sep/2019 07:25:45] \"GET /favicon.ico HTTP/1.1\" 404 -\n"
     ]
    }
   ],
   "source": [
    "import http.server\n",
    "from http.server import HTTPServer, SimpleHTTPRequestHandler\n",
    "import ssl\n",
    "import base64\n",
    "\n",
    "key = \"admin:admin\"\n",
    "encodedKey = \"Basic \" + str(base64.b64encode(key.encode(\"utf-8\")),\"utf-8\")\n",
    "\n",
    "class RequestHandler(http.server.SimpleHTTPRequestHandler):\n",
    "    def do_HEAD(self):\n",
    "        print (\"Send Header\")\n",
    "        self.send_response(200)\n",
    "        self.send_header('Content-type', 'text/html')\n",
    "        self.end_headers()\n",
    "\n",
    "    def do_AUTHHEAD(self):\n",
    "        print (\"Test\")\n",
    "        self.send_response(401)\n",
    "        self.send_header('WWW-Authenticate', 'Basic realm=\\\"Test\\\"')\n",
    "        self.send_header('Content-type', 'text/html')\n",
    "        self.end_headers()\n",
    "\n",
    "    def do_GET(self):\n",
    "        if self.headers.get('Authorization') == None:\n",
    "            self.do_AUTHHEAD()\n",
    "            self.wfile.write(b'No Auth Header Received')\n",
    "            pass\n",
    "        elif self.headers.get('Authorization') == encodedKey:\n",
    "            return SimpleHTTPRequestHandler.do_GET(self)\n",
    "            pass\n",
    "        else:\n",
    "            self.do_AUTHHEAD()\n",
    "            print(self.headers.get('Authorization'))\n",
    "            self.wfile.write(b'Not Authenticated')\n",
    "            pass\n",
    "\n",
    "port = 1991\n",
    "httpd = http.server.HTTPServer(('', port), RequestHandler)\n",
    "print(\"Serving at port\", port)\n",
    "httpd.socket = ssl.wrap_socket(httpd.socket, keyfile = \"key.pem\", certfile = \"certificate.pem\", server_side=True)\n",
    "httpd.serve_forever()\n"
   ]
  },
  {
   "cell_type": "code",
   "execution_count": null,
   "metadata": {},
   "outputs": [],
   "source": []
  },
  {
   "cell_type": "code",
   "execution_count": null,
   "metadata": {},
   "outputs": [],
   "source": []
  }
 ],
 "metadata": {
  "kernelspec": {
   "display_name": "Python 3",
   "language": "python",
   "name": "python3"
  },
  "language_info": {
   "codemirror_mode": {
    "name": "ipython",
    "version": 3
   },
   "file_extension": ".py",
   "mimetype": "text/x-python",
   "name": "python",
   "nbconvert_exporter": "python",
   "pygments_lexer": "ipython3",
   "version": "3.7.3"
  }
 },
 "nbformat": 4,
 "nbformat_minor": 2
}
